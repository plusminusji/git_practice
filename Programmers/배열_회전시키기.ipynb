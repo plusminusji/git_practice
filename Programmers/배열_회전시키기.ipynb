{
 "cells": [
  {
   "cell_type": "markdown",
   "metadata": {
    "vscode": {
     "languageId": "plaintext"
    }
   },
   "source": [
    "정수가 담긴 배열 numbers와 문자열 direction가 매개변수로 주어집니다. 배열 numbers의 원소를 direction방향으로 한 칸씩 회전시킨 배열을 return하도록 solution 함수를 완성해주세요.\n",
    "\n",
    "[제한사항]\n",
    "- 3 ≤ numbers의 길이 ≤ 20\n",
    "- direction은 \"left\" 와 \"right\" 둘 중 하나입니다."
   ]
  },
  {
   "cell_type": "code",
   "execution_count": null,
   "metadata": {},
   "outputs": [],
   "source": [
    "def solution(numbers, direction):\n",
    "    answer = []\n",
    "    if direction == 'right':\n",
    "        answer.append(numbers[-1])\n",
    "        for i in range(len(numbers[:-1])):\n",
    "            answer.append(numbers[i])\n",
    "    elif direction == 'left':\n",
    "        for i in range(len(numbers[1:])):\n",
    "            answer.append(numbers[i])\n",
    "        answer.append(numbers[0])\n",
    "    return answer"
   ]
  },
  {
   "cell_type": "code",
   "execution_count": 37,
   "metadata": {},
   "outputs": [],
   "source": [
    "# 최적화\n",
    "def solution(numbers, direction):\n",
    "    if direction == 'right':\n",
    "        return [numbers[-1]] + numbers[:-1]\n",
    "    elif direction == 'left':\n",
    "        return numbers[1:] + [numbers[0]]"
   ]
  },
  {
   "cell_type": "code",
   "execution_count": 20,
   "metadata": {},
   "outputs": [],
   "source": [
    "def solution(numbers, direction):\n",
    "    from collections import deque\n",
    "    deque_num = deque(i for i in numbers)\n",
    "    if direction == 'right':\n",
    "        deque_num.rotate(1)\n",
    "    elif direction == 'left':   \n",
    "        deque_num.rotate(-1)\n",
    "\n",
    "    return deque_num"
   ]
  },
  {
   "cell_type": "code",
   "execution_count": 38,
   "metadata": {},
   "outputs": [
    {
     "data": {
      "text/plain": [
       "[3, 1, 2]"
      ]
     },
     "execution_count": 38,
     "metadata": {},
     "output_type": "execute_result"
    }
   ],
   "source": [
    "solution([1, 2, 3], 'right')"
   ]
  },
  {
   "cell_type": "code",
   "execution_count": 39,
   "metadata": {},
   "outputs": [
    {
     "data": {
      "text/plain": [
       "[455, 6, 4, -1, 45, 6, 4]"
      ]
     },
     "execution_count": 39,
     "metadata": {},
     "output_type": "execute_result"
    }
   ],
   "source": [
    "solution([4, 455, 6, 4, -1, 45, 6], 'left')"
   ]
  }
 ],
 "metadata": {
  "kernelspec": {
   "display_name": "programmers",
   "language": "python",
   "name": "python3"
  },
  "language_info": {
   "codemirror_mode": {
    "name": "ipython",
    "version": 3
   },
   "file_extension": ".py",
   "mimetype": "text/x-python",
   "name": "python",
   "nbconvert_exporter": "python",
   "pygments_lexer": "ipython3",
   "version": "3.12.9"
  }
 },
 "nbformat": 4,
 "nbformat_minor": 2
}
