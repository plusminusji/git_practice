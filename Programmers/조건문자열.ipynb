{
 "cells": [
  {
   "cell_type": "markdown",
   "metadata": {},
   "source": [
    "문자열에 따라 다음과 같이 두 수의 크기를 비교하려고 합니다.\n",
    "\n",
    "두 수가 n과 m이라면\n",
    "\">\", \"=\" : n >= m\n",
    "\"<\", \"=\" : n <= m\n",
    "\">\", \"!\" : n > m\n",
    "\"<\", \"!\" : n < m\n",
    "두 문자열 ineq와 eq가 주어집니다. ineq는 \"<\"와 \">\"중 하나고, eq는 \"=\"와 \"!\"중 하나입니다. 그리고 두 정수 n과 m이 주어질 때, n과 m이 ineq와 eq의 조건에 맞으면 1을 아니면 0을 return하도록 solution 함수를 완성해주세요."
   ]
  },
  {
   "cell_type": "code",
   "execution_count": 30,
   "metadata": {},
   "outputs": [],
   "source": [
    "def solution(ineq, eq, n, m):\n",
    "    if ineq == \">\" and eq == \"=\":\n",
    "        return int(n >= m)\n",
    "    elif ineq == \">\" and eq == \"!\":\n",
    "        return int(n > m)\n",
    "    elif ineq == \"<\" and eq == \"=\":\n",
    "        return int(n <= m)\n",
    "    elif ineq == \"<\" and eq == \"!\":\n",
    "        return int(n < m)"
   ]
  },
  {
   "cell_type": "code",
   "execution_count": 31,
   "metadata": {},
   "outputs": [
    {
     "data": {
      "text/plain": [
       "1"
      ]
     },
     "execution_count": 31,
     "metadata": {},
     "output_type": "execute_result"
    }
   ],
   "source": [
    "solution(\"<\", \"=\", 20, 50)"
   ]
  },
  {
   "cell_type": "code",
   "execution_count": 32,
   "metadata": {},
   "outputs": [
    {
     "data": {
      "text/plain": [
       "0"
      ]
     },
     "execution_count": 32,
     "metadata": {},
     "output_type": "execute_result"
    }
   ],
   "source": [
    "solution(\">\", \"!\", 41, 78)"
   ]
  },
  {
   "cell_type": "markdown",
   "metadata": {},
   "source": [
    "# 다른 사람의 풀이"
   ]
  },
  {
   "cell_type": "code",
   "execution_count": null,
   "metadata": {},
   "outputs": [],
   "source": [
    "def solution(ineq, eq, n, m):\n",
    "    return int(eval(str(n)+ineq+eq.replace('!', '')+str(m)))"
   ]
  },
  {
   "cell_type": "code",
   "execution_count": null,
   "metadata": {},
   "outputs": [],
   "source": [
    "# eval() : expression을 문자열로 받아서 실행하는 함수로, 사용자가 마음대로 프로그램을 조종할 수 있는 위험이 있기 때문에 보안상 사용이 꺼려짐"
   ]
  }
 ],
 "metadata": {
  "kernelspec": {
   "display_name": "YT_project",
   "language": "python",
   "name": "python3"
  },
  "language_info": {
   "codemirror_mode": {
    "name": "ipython",
    "version": 3
   },
   "file_extension": ".py",
   "mimetype": "text/x-python",
   "name": "python",
   "nbconvert_exporter": "python",
   "pygments_lexer": "ipython3",
   "version": "3.9.21"
  }
 },
 "nbformat": 4,
 "nbformat_minor": 2
}
